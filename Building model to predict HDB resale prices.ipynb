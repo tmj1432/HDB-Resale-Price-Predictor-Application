{
 "cells": [
  {
   "cell_type": "markdown",
   "id": "ba04c019",
   "metadata": {},
   "source": [
    "# Building a Model to Predict HDB Resale Prices and Deploying it on streamlit.io"
   ]
  },
  {
   "cell_type": "markdown",
   "id": "4252659a",
   "metadata": {},
   "source": [
    "## Disclaimer"
   ]
  },
  {
   "cell_type": "markdown",
   "id": "2e680698",
   "metadata": {},
   "source": [
    "This project aims to build a model with deployment in mind. Hence, features are pre-selected based on what I would like to use in my streamlit application. However, we would still aim to build the best model based on the features we currently have."
   ]
  },
  {
   "cell_type": "markdown",
   "id": "ae5cc553",
   "metadata": {},
   "source": [
    "## Import Libraries"
   ]
  },
  {
   "cell_type": "code",
   "execution_count": 1,
   "id": "3d49b67d",
   "metadata": {},
   "outputs": [],
   "source": [
    "import numpy as np\n",
    "import pandas as pd\n",
    "import numpy as np\n",
    "import matplotlib.pyplot as plt\n",
    "import seaborn as sns\n",
    "\n",
    "import requests # library to handle requests\n",
    "from bs4 import BeautifulSoup # library to parse HTML documents\n",
    "\n",
    "from sklearn.compose import ColumnTransformer\n",
    "from sklearn.preprocessing import PowerTransformer\n",
    "from sklearn.preprocessing import OneHotEncoder\n",
    "from sklearn.model_selection import train_test_split\n",
    "from sklearn.pipeline import Pipeline\n",
    "from sklearn.linear_model import LinearRegression\n",
    "from sklearn.compose import make_column_selector as selector\n",
    "from sklearn.metrics import mean_squared_error\n",
    "from sklearn.model_selection import GridSearchCV\n",
    "from sklearn.svm import SVR\n",
    "import xgboost as xgb \n",
    "from sklearn.compose import TransformedTargetRegressor\n",
    "from sklearn.base import BaseEstimator\n",
    "from sklearn.ensemble import RandomForestRegressor, VotingRegressor\n",
    "from sklearn.neighbors import KNeighborsRegressor\n",
    "\n",
    "from joblib import dump\n",
    "\n",
    "pd.set_option(\"display.max_columns\", 80)"
   ]
  },
  {
   "cell_type": "markdown",
   "id": "7da9f6fe",
   "metadata": {},
   "source": [
    "---"
   ]
  },
  {
   "cell_type": "markdown",
   "id": "3db93d38",
   "metadata": {},
   "source": [
    "## Data Cleaning"
   ]
  },
  {
   "cell_type": "code",
   "execution_count": 2,
   "id": "2fcf6795",
   "metadata": {
    "scrolled": false
   },
   "outputs": [
    {
     "name": "stderr",
     "output_type": "stream",
     "text": [
      "/var/folders/mz/nzt7_nv53yb90l1j63v7r8n00000gn/T/ipykernel_10306/2795687360.py:2: DtypeWarning: Columns (42) have mixed types. Specify dtype option on import or set low_memory=False.\n",
      "  df = pd.read_csv(\"./datasets/train.csv\")\n"
     ]
    }
   ],
   "source": [
    "# loading in data\n",
    "df = pd.read_csv(\"./datasets/train.csv\")"
   ]
  },
  {
   "cell_type": "code",
   "execution_count": 3,
   "id": "868a7b4b",
   "metadata": {
    "scrolled": true
   },
   "outputs": [],
   "source": [
    "# lowercasing column name\n",
    "df.columns= df.columns.str.lower()"
   ]
  },
  {
   "cell_type": "code",
   "execution_count": 4,
   "id": "310adae4",
   "metadata": {
    "scrolled": false
   },
   "outputs": [
    {
     "data": {
      "text/html": [
       "<div>\n",
       "<style scoped>\n",
       "    .dataframe tbody tr th:only-of-type {\n",
       "        vertical-align: middle;\n",
       "    }\n",
       "\n",
       "    .dataframe tbody tr th {\n",
       "        vertical-align: top;\n",
       "    }\n",
       "\n",
       "    .dataframe thead th {\n",
       "        text-align: right;\n",
       "    }\n",
       "</style>\n",
       "<table border=\"1\" class=\"dataframe\">\n",
       "  <thead>\n",
       "    <tr style=\"text-align: right;\">\n",
       "      <th></th>\n",
       "      <th>id</th>\n",
       "      <th>tranc_yearmonth</th>\n",
       "      <th>town</th>\n",
       "      <th>flat_type</th>\n",
       "      <th>block</th>\n",
       "      <th>street_name</th>\n",
       "      <th>storey_range</th>\n",
       "      <th>floor_area_sqm</th>\n",
       "      <th>flat_model</th>\n",
       "      <th>lease_commence_date</th>\n",
       "      <th>resale_price</th>\n",
       "      <th>tranc_year</th>\n",
       "      <th>tranc_month</th>\n",
       "      <th>mid_storey</th>\n",
       "      <th>lower</th>\n",
       "      <th>upper</th>\n",
       "      <th>mid</th>\n",
       "      <th>full_flat_type</th>\n",
       "      <th>address</th>\n",
       "      <th>floor_area_sqft</th>\n",
       "      <th>price_per_sqft</th>\n",
       "      <th>hdb_age</th>\n",
       "      <th>max_floor_lvl</th>\n",
       "      <th>year_completed</th>\n",
       "      <th>residential</th>\n",
       "      <th>commercial</th>\n",
       "      <th>market_hawker</th>\n",
       "      <th>multistorey_carpark</th>\n",
       "      <th>precinct_pavilion</th>\n",
       "      <th>total_dwelling_units</th>\n",
       "      <th>1room_sold</th>\n",
       "      <th>2room_sold</th>\n",
       "      <th>3room_sold</th>\n",
       "      <th>4room_sold</th>\n",
       "      <th>5room_sold</th>\n",
       "      <th>exec_sold</th>\n",
       "      <th>multigen_sold</th>\n",
       "      <th>studio_apartment_sold</th>\n",
       "      <th>1room_rental</th>\n",
       "      <th>2room_rental</th>\n",
       "      <th>3room_rental</th>\n",
       "      <th>other_room_rental</th>\n",
       "      <th>postal</th>\n",
       "      <th>latitude</th>\n",
       "      <th>longitude</th>\n",
       "      <th>planning_area</th>\n",
       "      <th>mall_nearest_distance</th>\n",
       "      <th>mall_within_500m</th>\n",
       "      <th>mall_within_1km</th>\n",
       "      <th>mall_within_2km</th>\n",
       "      <th>hawker_nearest_distance</th>\n",
       "      <th>hawker_within_500m</th>\n",
       "      <th>hawker_within_1km</th>\n",
       "      <th>hawker_within_2km</th>\n",
       "      <th>hawker_food_stalls</th>\n",
       "      <th>hawker_market_stalls</th>\n",
       "      <th>mrt_nearest_distance</th>\n",
       "      <th>mrt_name</th>\n",
       "      <th>bus_interchange</th>\n",
       "      <th>mrt_interchange</th>\n",
       "      <th>mrt_latitude</th>\n",
       "      <th>mrt_longitude</th>\n",
       "      <th>bus_stop_nearest_distance</th>\n",
       "      <th>bus_stop_name</th>\n",
       "      <th>bus_stop_latitude</th>\n",
       "      <th>bus_stop_longitude</th>\n",
       "      <th>pri_sch_nearest_distance</th>\n",
       "      <th>pri_sch_name</th>\n",
       "      <th>vacancy</th>\n",
       "      <th>pri_sch_affiliation</th>\n",
       "      <th>pri_sch_latitude</th>\n",
       "      <th>pri_sch_longitude</th>\n",
       "      <th>sec_sch_nearest_dist</th>\n",
       "      <th>sec_sch_name</th>\n",
       "      <th>cutoff_point</th>\n",
       "      <th>affiliation</th>\n",
       "      <th>sec_sch_latitude</th>\n",
       "      <th>sec_sch_longitude</th>\n",
       "    </tr>\n",
       "  </thead>\n",
       "  <tbody>\n",
       "    <tr>\n",
       "      <th>0</th>\n",
       "      <td>88471</td>\n",
       "      <td>2016-05</td>\n",
       "      <td>KALLANG/WHAMPOA</td>\n",
       "      <td>4 ROOM</td>\n",
       "      <td>3B</td>\n",
       "      <td>UPP BOON KENG RD</td>\n",
       "      <td>10 TO 12</td>\n",
       "      <td>90.0</td>\n",
       "      <td>Model A</td>\n",
       "      <td>2006</td>\n",
       "      <td>680000.0</td>\n",
       "      <td>2016</td>\n",
       "      <td>5</td>\n",
       "      <td>11</td>\n",
       "      <td>10</td>\n",
       "      <td>12</td>\n",
       "      <td>11</td>\n",
       "      <td>4 ROOM Model A</td>\n",
       "      <td>3B, UPP BOON KENG RD</td>\n",
       "      <td>968.760</td>\n",
       "      <td>701.928238</td>\n",
       "      <td>15</td>\n",
       "      <td>25</td>\n",
       "      <td>2005</td>\n",
       "      <td>Y</td>\n",
       "      <td>N</td>\n",
       "      <td>N</td>\n",
       "      <td>N</td>\n",
       "      <td>N</td>\n",
       "      <td>142</td>\n",
       "      <td>0</td>\n",
       "      <td>0</td>\n",
       "      <td>0</td>\n",
       "      <td>96</td>\n",
       "      <td>46</td>\n",
       "      <td>0</td>\n",
       "      <td>0</td>\n",
       "      <td>0</td>\n",
       "      <td>0</td>\n",
       "      <td>0</td>\n",
       "      <td>0</td>\n",
       "      <td>0</td>\n",
       "      <td>382003</td>\n",
       "      <td>1.314299</td>\n",
       "      <td>103.872828</td>\n",
       "      <td>Kallang</td>\n",
       "      <td>1094.090418</td>\n",
       "      <td>NaN</td>\n",
       "      <td>NaN</td>\n",
       "      <td>7.0</td>\n",
       "      <td>154.753357</td>\n",
       "      <td>1.0</td>\n",
       "      <td>3.0</td>\n",
       "      <td>13.0</td>\n",
       "      <td>84</td>\n",
       "      <td>60</td>\n",
       "      <td>330.083069</td>\n",
       "      <td>Kallang</td>\n",
       "      <td>0</td>\n",
       "      <td>0</td>\n",
       "      <td>1.311540</td>\n",
       "      <td>103.871731</td>\n",
       "      <td>29.427395</td>\n",
       "      <td>Blk 3B</td>\n",
       "      <td>1.314433</td>\n",
       "      <td>103.872600</td>\n",
       "      <td>1138.633422</td>\n",
       "      <td>Geylang Methodist School</td>\n",
       "      <td>78</td>\n",
       "      <td>1</td>\n",
       "      <td>1.317659</td>\n",
       "      <td>103.882504</td>\n",
       "      <td>1138.633422</td>\n",
       "      <td>Geylang Methodist School</td>\n",
       "      <td>224</td>\n",
       "      <td>0</td>\n",
       "      <td>1.317659</td>\n",
       "      <td>103.882504</td>\n",
       "    </tr>\n",
       "    <tr>\n",
       "      <th>1</th>\n",
       "      <td>122598</td>\n",
       "      <td>2012-07</td>\n",
       "      <td>BISHAN</td>\n",
       "      <td>5 ROOM</td>\n",
       "      <td>153</td>\n",
       "      <td>BISHAN ST 13</td>\n",
       "      <td>07 TO 09</td>\n",
       "      <td>130.0</td>\n",
       "      <td>Improved</td>\n",
       "      <td>1987</td>\n",
       "      <td>665000.0</td>\n",
       "      <td>2012</td>\n",
       "      <td>7</td>\n",
       "      <td>8</td>\n",
       "      <td>7</td>\n",
       "      <td>9</td>\n",
       "      <td>8</td>\n",
       "      <td>5 ROOM Improved</td>\n",
       "      <td>153, BISHAN ST 13</td>\n",
       "      <td>1399.320</td>\n",
       "      <td>475.230826</td>\n",
       "      <td>34</td>\n",
       "      <td>9</td>\n",
       "      <td>1987</td>\n",
       "      <td>Y</td>\n",
       "      <td>N</td>\n",
       "      <td>N</td>\n",
       "      <td>N</td>\n",
       "      <td>N</td>\n",
       "      <td>112</td>\n",
       "      <td>0</td>\n",
       "      <td>0</td>\n",
       "      <td>0</td>\n",
       "      <td>56</td>\n",
       "      <td>56</td>\n",
       "      <td>0</td>\n",
       "      <td>0</td>\n",
       "      <td>0</td>\n",
       "      <td>0</td>\n",
       "      <td>0</td>\n",
       "      <td>0</td>\n",
       "      <td>0</td>\n",
       "      <td>570153</td>\n",
       "      <td>1.346086</td>\n",
       "      <td>103.855078</td>\n",
       "      <td>Bishan</td>\n",
       "      <td>866.941448</td>\n",
       "      <td>NaN</td>\n",
       "      <td>1.0</td>\n",
       "      <td>3.0</td>\n",
       "      <td>640.151925</td>\n",
       "      <td>NaN</td>\n",
       "      <td>1.0</td>\n",
       "      <td>7.0</td>\n",
       "      <td>80</td>\n",
       "      <td>77</td>\n",
       "      <td>903.659703</td>\n",
       "      <td>Bishan</td>\n",
       "      <td>1</td>\n",
       "      <td>1</td>\n",
       "      <td>1.350580</td>\n",
       "      <td>103.848305</td>\n",
       "      <td>58.207761</td>\n",
       "      <td>BLK 151A MKT</td>\n",
       "      <td>1.345659</td>\n",
       "      <td>103.855381</td>\n",
       "      <td>415.607357</td>\n",
       "      <td>Kuo Chuan Presbyterian Primary School</td>\n",
       "      <td>45</td>\n",
       "      <td>1</td>\n",
       "      <td>1.349783</td>\n",
       "      <td>103.854529</td>\n",
       "      <td>447.894399</td>\n",
       "      <td>Kuo Chuan Presbyterian Secondary School</td>\n",
       "      <td>232</td>\n",
       "      <td>0</td>\n",
       "      <td>1.350110</td>\n",
       "      <td>103.854892</td>\n",
       "    </tr>\n",
       "    <tr>\n",
       "      <th>2</th>\n",
       "      <td>170897</td>\n",
       "      <td>2013-07</td>\n",
       "      <td>BUKIT BATOK</td>\n",
       "      <td>EXECUTIVE</td>\n",
       "      <td>289B</td>\n",
       "      <td>BT BATOK ST 25</td>\n",
       "      <td>13 TO 15</td>\n",
       "      <td>144.0</td>\n",
       "      <td>Apartment</td>\n",
       "      <td>1997</td>\n",
       "      <td>838000.0</td>\n",
       "      <td>2013</td>\n",
       "      <td>7</td>\n",
       "      <td>14</td>\n",
       "      <td>13</td>\n",
       "      <td>15</td>\n",
       "      <td>14</td>\n",
       "      <td>EXECUTIVE Apartment</td>\n",
       "      <td>289B, BT BATOK ST 25</td>\n",
       "      <td>1550.016</td>\n",
       "      <td>540.639580</td>\n",
       "      <td>24</td>\n",
       "      <td>16</td>\n",
       "      <td>1996</td>\n",
       "      <td>Y</td>\n",
       "      <td>N</td>\n",
       "      <td>N</td>\n",
       "      <td>N</td>\n",
       "      <td>N</td>\n",
       "      <td>90</td>\n",
       "      <td>0</td>\n",
       "      <td>0</td>\n",
       "      <td>0</td>\n",
       "      <td>0</td>\n",
       "      <td>30</td>\n",
       "      <td>60</td>\n",
       "      <td>0</td>\n",
       "      <td>0</td>\n",
       "      <td>0</td>\n",
       "      <td>0</td>\n",
       "      <td>0</td>\n",
       "      <td>0</td>\n",
       "      <td>651289</td>\n",
       "      <td>1.343867</td>\n",
       "      <td>103.760535</td>\n",
       "      <td>Bukit Batok</td>\n",
       "      <td>1459.579948</td>\n",
       "      <td>NaN</td>\n",
       "      <td>NaN</td>\n",
       "      <td>4.0</td>\n",
       "      <td>1762.082341</td>\n",
       "      <td>NaN</td>\n",
       "      <td>NaN</td>\n",
       "      <td>1.0</td>\n",
       "      <td>84</td>\n",
       "      <td>95</td>\n",
       "      <td>1334.251197</td>\n",
       "      <td>Bukit Batok</td>\n",
       "      <td>1</td>\n",
       "      <td>0</td>\n",
       "      <td>1.349561</td>\n",
       "      <td>103.749970</td>\n",
       "      <td>214.747860</td>\n",
       "      <td>Blk 289E</td>\n",
       "      <td>1.344064</td>\n",
       "      <td>103.758613</td>\n",
       "      <td>498.849039</td>\n",
       "      <td>Keming Primary School</td>\n",
       "      <td>39</td>\n",
       "      <td>0</td>\n",
       "      <td>1.345245</td>\n",
       "      <td>103.756265</td>\n",
       "      <td>180.074558</td>\n",
       "      <td>Yusof Ishak Secondary School</td>\n",
       "      <td>188</td>\n",
       "      <td>0</td>\n",
       "      <td>1.342334</td>\n",
       "      <td>103.760013</td>\n",
       "    </tr>\n",
       "    <tr>\n",
       "      <th>3</th>\n",
       "      <td>86070</td>\n",
       "      <td>2012-04</td>\n",
       "      <td>BISHAN</td>\n",
       "      <td>4 ROOM</td>\n",
       "      <td>232</td>\n",
       "      <td>BISHAN ST 22</td>\n",
       "      <td>01 TO 05</td>\n",
       "      <td>103.0</td>\n",
       "      <td>Model A</td>\n",
       "      <td>1992</td>\n",
       "      <td>550000.0</td>\n",
       "      <td>2012</td>\n",
       "      <td>4</td>\n",
       "      <td>3</td>\n",
       "      <td>1</td>\n",
       "      <td>5</td>\n",
       "      <td>3</td>\n",
       "      <td>4 ROOM Model A</td>\n",
       "      <td>232, BISHAN ST 22</td>\n",
       "      <td>1108.692</td>\n",
       "      <td>496.080066</td>\n",
       "      <td>29</td>\n",
       "      <td>11</td>\n",
       "      <td>1990</td>\n",
       "      <td>Y</td>\n",
       "      <td>Y</td>\n",
       "      <td>N</td>\n",
       "      <td>N</td>\n",
       "      <td>N</td>\n",
       "      <td>75</td>\n",
       "      <td>0</td>\n",
       "      <td>0</td>\n",
       "      <td>0</td>\n",
       "      <td>68</td>\n",
       "      <td>7</td>\n",
       "      <td>0</td>\n",
       "      <td>0</td>\n",
       "      <td>0</td>\n",
       "      <td>0</td>\n",
       "      <td>0</td>\n",
       "      <td>0</td>\n",
       "      <td>0</td>\n",
       "      <td>570232</td>\n",
       "      <td>1.358245</td>\n",
       "      <td>103.845504</td>\n",
       "      <td>Bishan</td>\n",
       "      <td>950.175199</td>\n",
       "      <td>NaN</td>\n",
       "      <td>1.0</td>\n",
       "      <td>4.0</td>\n",
       "      <td>726.215262</td>\n",
       "      <td>NaN</td>\n",
       "      <td>1.0</td>\n",
       "      <td>9.0</td>\n",
       "      <td>32</td>\n",
       "      <td>86</td>\n",
       "      <td>907.453484</td>\n",
       "      <td>Bishan</td>\n",
       "      <td>1</td>\n",
       "      <td>1</td>\n",
       "      <td>1.350580</td>\n",
       "      <td>103.848305</td>\n",
       "      <td>43.396521</td>\n",
       "      <td>Opp Bishan Nth Shop Mall</td>\n",
       "      <td>1.358045</td>\n",
       "      <td>103.845169</td>\n",
       "      <td>389.515528</td>\n",
       "      <td>Catholic High School</td>\n",
       "      <td>20</td>\n",
       "      <td>1</td>\n",
       "      <td>1.354789</td>\n",
       "      <td>103.844934</td>\n",
       "      <td>389.515528</td>\n",
       "      <td>Catholic High School</td>\n",
       "      <td>253</td>\n",
       "      <td>1</td>\n",
       "      <td>1.354789</td>\n",
       "      <td>103.844934</td>\n",
       "    </tr>\n",
       "    <tr>\n",
       "      <th>4</th>\n",
       "      <td>153632</td>\n",
       "      <td>2017-12</td>\n",
       "      <td>YISHUN</td>\n",
       "      <td>4 ROOM</td>\n",
       "      <td>876</td>\n",
       "      <td>YISHUN ST 81</td>\n",
       "      <td>01 TO 03</td>\n",
       "      <td>83.0</td>\n",
       "      <td>Simplified</td>\n",
       "      <td>1987</td>\n",
       "      <td>298000.0</td>\n",
       "      <td>2017</td>\n",
       "      <td>12</td>\n",
       "      <td>2</td>\n",
       "      <td>1</td>\n",
       "      <td>3</td>\n",
       "      <td>2</td>\n",
       "      <td>4 ROOM Simplified</td>\n",
       "      <td>876, YISHUN ST 81</td>\n",
       "      <td>893.412</td>\n",
       "      <td>333.552717</td>\n",
       "      <td>34</td>\n",
       "      <td>4</td>\n",
       "      <td>1987</td>\n",
       "      <td>Y</td>\n",
       "      <td>N</td>\n",
       "      <td>N</td>\n",
       "      <td>N</td>\n",
       "      <td>N</td>\n",
       "      <td>48</td>\n",
       "      <td>0</td>\n",
       "      <td>0</td>\n",
       "      <td>0</td>\n",
       "      <td>30</td>\n",
       "      <td>18</td>\n",
       "      <td>0</td>\n",
       "      <td>0</td>\n",
       "      <td>0</td>\n",
       "      <td>0</td>\n",
       "      <td>0</td>\n",
       "      <td>0</td>\n",
       "      <td>0</td>\n",
       "      <td>760876</td>\n",
       "      <td>1.414745</td>\n",
       "      <td>103.835532</td>\n",
       "      <td>Yishun</td>\n",
       "      <td>729.771895</td>\n",
       "      <td>NaN</td>\n",
       "      <td>1.0</td>\n",
       "      <td>2.0</td>\n",
       "      <td>1540.151439</td>\n",
       "      <td>NaN</td>\n",
       "      <td>NaN</td>\n",
       "      <td>1.0</td>\n",
       "      <td>45</td>\n",
       "      <td>0</td>\n",
       "      <td>412.343032</td>\n",
       "      <td>Khatib</td>\n",
       "      <td>0</td>\n",
       "      <td>0</td>\n",
       "      <td>1.417131</td>\n",
       "      <td>103.832692</td>\n",
       "      <td>129.422752</td>\n",
       "      <td>Blk 873</td>\n",
       "      <td>1.415424</td>\n",
       "      <td>103.836477</td>\n",
       "      <td>401.200584</td>\n",
       "      <td>Naval Base Primary School</td>\n",
       "      <td>74</td>\n",
       "      <td>0</td>\n",
       "      <td>1.416280</td>\n",
       "      <td>103.838798</td>\n",
       "      <td>312.025435</td>\n",
       "      <td>Orchid Park Secondary School</td>\n",
       "      <td>208</td>\n",
       "      <td>0</td>\n",
       "      <td>1.414888</td>\n",
       "      <td>103.838335</td>\n",
       "    </tr>\n",
       "  </tbody>\n",
       "</table>\n",
       "</div>"
      ],
      "text/plain": [
       "       id tranc_yearmonth             town  flat_type block       street_name  \\\n",
       "0   88471         2016-05  KALLANG/WHAMPOA     4 ROOM    3B  UPP BOON KENG RD   \n",
       "1  122598         2012-07           BISHAN     5 ROOM   153      BISHAN ST 13   \n",
       "2  170897         2013-07      BUKIT BATOK  EXECUTIVE  289B    BT BATOK ST 25   \n",
       "3   86070         2012-04           BISHAN     4 ROOM   232      BISHAN ST 22   \n",
       "4  153632         2017-12           YISHUN     4 ROOM   876      YISHUN ST 81   \n",
       "\n",
       "  storey_range  floor_area_sqm  flat_model  lease_commence_date  resale_price  \\\n",
       "0     10 TO 12            90.0     Model A                 2006      680000.0   \n",
       "1     07 TO 09           130.0    Improved                 1987      665000.0   \n",
       "2     13 TO 15           144.0   Apartment                 1997      838000.0   \n",
       "3     01 TO 05           103.0     Model A                 1992      550000.0   \n",
       "4     01 TO 03            83.0  Simplified                 1987      298000.0   \n",
       "\n",
       "   tranc_year  tranc_month  mid_storey  lower  upper  mid  \\\n",
       "0        2016            5          11     10     12   11   \n",
       "1        2012            7           8      7      9    8   \n",
       "2        2013            7          14     13     15   14   \n",
       "3        2012            4           3      1      5    3   \n",
       "4        2017           12           2      1      3    2   \n",
       "\n",
       "        full_flat_type               address  floor_area_sqft  price_per_sqft  \\\n",
       "0       4 ROOM Model A  3B, UPP BOON KENG RD          968.760      701.928238   \n",
       "1      5 ROOM Improved     153, BISHAN ST 13         1399.320      475.230826   \n",
       "2  EXECUTIVE Apartment  289B, BT BATOK ST 25         1550.016      540.639580   \n",
       "3       4 ROOM Model A     232, BISHAN ST 22         1108.692      496.080066   \n",
       "4    4 ROOM Simplified     876, YISHUN ST 81          893.412      333.552717   \n",
       "\n",
       "   hdb_age  max_floor_lvl  year_completed residential commercial  \\\n",
       "0       15             25            2005           Y          N   \n",
       "1       34              9            1987           Y          N   \n",
       "2       24             16            1996           Y          N   \n",
       "3       29             11            1990           Y          Y   \n",
       "4       34              4            1987           Y          N   \n",
       "\n",
       "  market_hawker multistorey_carpark precinct_pavilion  total_dwelling_units  \\\n",
       "0             N                   N                 N                   142   \n",
       "1             N                   N                 N                   112   \n",
       "2             N                   N                 N                    90   \n",
       "3             N                   N                 N                    75   \n",
       "4             N                   N                 N                    48   \n",
       "\n",
       "   1room_sold  2room_sold  3room_sold  4room_sold  5room_sold  exec_sold  \\\n",
       "0           0           0           0          96          46          0   \n",
       "1           0           0           0          56          56          0   \n",
       "2           0           0           0           0          30         60   \n",
       "3           0           0           0          68           7          0   \n",
       "4           0           0           0          30          18          0   \n",
       "\n",
       "   multigen_sold  studio_apartment_sold  1room_rental  2room_rental  \\\n",
       "0              0                      0             0             0   \n",
       "1              0                      0             0             0   \n",
       "2              0                      0             0             0   \n",
       "3              0                      0             0             0   \n",
       "4              0                      0             0             0   \n",
       "\n",
       "   3room_rental  other_room_rental  postal  latitude   longitude  \\\n",
       "0             0                  0  382003  1.314299  103.872828   \n",
       "1             0                  0  570153  1.346086  103.855078   \n",
       "2             0                  0  651289  1.343867  103.760535   \n",
       "3             0                  0  570232  1.358245  103.845504   \n",
       "4             0                  0  760876  1.414745  103.835532   \n",
       "\n",
       "  planning_area  mall_nearest_distance  mall_within_500m  mall_within_1km  \\\n",
       "0       Kallang            1094.090418               NaN              NaN   \n",
       "1        Bishan             866.941448               NaN              1.0   \n",
       "2   Bukit Batok            1459.579948               NaN              NaN   \n",
       "3        Bishan             950.175199               NaN              1.0   \n",
       "4        Yishun             729.771895               NaN              1.0   \n",
       "\n",
       "   mall_within_2km  hawker_nearest_distance  hawker_within_500m  \\\n",
       "0              7.0               154.753357                 1.0   \n",
       "1              3.0               640.151925                 NaN   \n",
       "2              4.0              1762.082341                 NaN   \n",
       "3              4.0               726.215262                 NaN   \n",
       "4              2.0              1540.151439                 NaN   \n",
       "\n",
       "   hawker_within_1km  hawker_within_2km  hawker_food_stalls  \\\n",
       "0                3.0               13.0                  84   \n",
       "1                1.0                7.0                  80   \n",
       "2                NaN                1.0                  84   \n",
       "3                1.0                9.0                  32   \n",
       "4                NaN                1.0                  45   \n",
       "\n",
       "   hawker_market_stalls  mrt_nearest_distance     mrt_name  bus_interchange  \\\n",
       "0                    60            330.083069      Kallang                0   \n",
       "1                    77            903.659703       Bishan                1   \n",
       "2                    95           1334.251197  Bukit Batok                1   \n",
       "3                    86            907.453484       Bishan                1   \n",
       "4                     0            412.343032       Khatib                0   \n",
       "\n",
       "   mrt_interchange  mrt_latitude  mrt_longitude  bus_stop_nearest_distance  \\\n",
       "0                0      1.311540     103.871731                  29.427395   \n",
       "1                1      1.350580     103.848305                  58.207761   \n",
       "2                0      1.349561     103.749970                 214.747860   \n",
       "3                1      1.350580     103.848305                  43.396521   \n",
       "4                0      1.417131     103.832692                 129.422752   \n",
       "\n",
       "              bus_stop_name  bus_stop_latitude  bus_stop_longitude  \\\n",
       "0                    Blk 3B           1.314433          103.872600   \n",
       "1              BLK 151A MKT           1.345659          103.855381   \n",
       "2                  Blk 289E           1.344064          103.758613   \n",
       "3  Opp Bishan Nth Shop Mall           1.358045          103.845169   \n",
       "4                   Blk 873           1.415424          103.836477   \n",
       "\n",
       "   pri_sch_nearest_distance                           pri_sch_name  vacancy  \\\n",
       "0               1138.633422               Geylang Methodist School       78   \n",
       "1                415.607357  Kuo Chuan Presbyterian Primary School       45   \n",
       "2                498.849039                  Keming Primary School       39   \n",
       "3                389.515528                   Catholic High School       20   \n",
       "4                401.200584              Naval Base Primary School       74   \n",
       "\n",
       "   pri_sch_affiliation  pri_sch_latitude  pri_sch_longitude  \\\n",
       "0                    1          1.317659         103.882504   \n",
       "1                    1          1.349783         103.854529   \n",
       "2                    0          1.345245         103.756265   \n",
       "3                    1          1.354789         103.844934   \n",
       "4                    0          1.416280         103.838798   \n",
       "\n",
       "   sec_sch_nearest_dist                             sec_sch_name  \\\n",
       "0           1138.633422                 Geylang Methodist School   \n",
       "1            447.894399  Kuo Chuan Presbyterian Secondary School   \n",
       "2            180.074558             Yusof Ishak Secondary School   \n",
       "3            389.515528                     Catholic High School   \n",
       "4            312.025435             Orchid Park Secondary School   \n",
       "\n",
       "   cutoff_point  affiliation  sec_sch_latitude  sec_sch_longitude  \n",
       "0           224            0          1.317659         103.882504  \n",
       "1           232            0          1.350110         103.854892  \n",
       "2           188            0          1.342334         103.760013  \n",
       "3           253            1          1.354789         103.844934  \n",
       "4           208            0          1.414888         103.838335  "
      ]
     },
     "execution_count": 4,
     "metadata": {},
     "output_type": "execute_result"
    }
   ],
   "source": [
    "# taking first glance at data\n",
    "df.head()"
   ]
  },
  {
   "cell_type": "code",
   "execution_count": 5,
   "id": "0299ff48",
   "metadata": {},
   "outputs": [],
   "source": [
    "# final selection of features I would like to include in my final model\n",
    "df = df[['flat_type','floor_area_sqft','lease_commence_date','mid','planning_area','resale_price']]"
   ]
  },
  {
   "cell_type": "code",
   "execution_count": 6,
   "id": "aa781299",
   "metadata": {},
   "outputs": [
    {
     "data": {
      "text/plain": [
       "flat_type              0\n",
       "floor_area_sqft        0\n",
       "lease_commence_date    0\n",
       "mid                    0\n",
       "planning_area          0\n",
       "resale_price           0\n",
       "dtype: int64"
      ]
     },
     "execution_count": 6,
     "metadata": {},
     "output_type": "execute_result"
    }
   ],
   "source": [
    "# checking for null values\n",
    "df.isna().sum()"
   ]
  },
  {
   "cell_type": "code",
   "execution_count": 7,
   "id": "69f933a6",
   "metadata": {
    "scrolled": false
   },
   "outputs": [
    {
     "data": {
      "text/html": [
       "<div>\n",
       "<style scoped>\n",
       "    .dataframe tbody tr th:only-of-type {\n",
       "        vertical-align: middle;\n",
       "    }\n",
       "\n",
       "    .dataframe tbody tr th {\n",
       "        vertical-align: top;\n",
       "    }\n",
       "\n",
       "    .dataframe thead th {\n",
       "        text-align: right;\n",
       "    }\n",
       "</style>\n",
       "<table border=\"1\" class=\"dataframe\">\n",
       "  <thead>\n",
       "    <tr style=\"text-align: right;\">\n",
       "      <th></th>\n",
       "      <th>dtype</th>\n",
       "    </tr>\n",
       "  </thead>\n",
       "  <tbody>\n",
       "    <tr>\n",
       "      <th>lease_commence_date</th>\n",
       "      <td>int64</td>\n",
       "    </tr>\n",
       "    <tr>\n",
       "      <th>mid</th>\n",
       "      <td>int64</td>\n",
       "    </tr>\n",
       "    <tr>\n",
       "      <th>floor_area_sqft</th>\n",
       "      <td>float64</td>\n",
       "    </tr>\n",
       "    <tr>\n",
       "      <th>resale_price</th>\n",
       "      <td>float64</td>\n",
       "    </tr>\n",
       "    <tr>\n",
       "      <th>flat_type</th>\n",
       "      <td>object</td>\n",
       "    </tr>\n",
       "    <tr>\n",
       "      <th>planning_area</th>\n",
       "      <td>object</td>\n",
       "    </tr>\n",
       "  </tbody>\n",
       "</table>\n",
       "</div>"
      ],
      "text/plain": [
       "                       dtype\n",
       "lease_commence_date    int64\n",
       "mid                    int64\n",
       "floor_area_sqft      float64\n",
       "resale_price         float64\n",
       "flat_type             object\n",
       "planning_area         object"
      ]
     },
     "execution_count": 7,
     "metadata": {},
     "output_type": "execute_result"
    }
   ],
   "source": [
    "# checking the dtypes\n",
    "dtypes = pd.DataFrame(df.dtypes,columns=['dtype'])\n",
    "dtypes.sort_values(by='dtype')"
   ]
  },
  {
   "cell_type": "markdown",
   "id": "0f2866ce",
   "metadata": {},
   "source": [
    "---"
   ]
  },
  {
   "cell_type": "markdown",
   "id": "56ee0031",
   "metadata": {},
   "source": [
    "## Exploratory Data Analysis"
   ]
  },
  {
   "cell_type": "markdown",
   "id": "836121e6",
   "metadata": {},
   "source": [
    "### Numerical Features"
   ]
  },
  {
   "cell_type": "markdown",
   "id": "967db02a",
   "metadata": {},
   "source": [
    "#### Heatmap of Numerical Features"
   ]
  },
  {
   "cell_type": "code",
   "execution_count": 8,
   "id": "b8570a40",
   "metadata": {},
   "outputs": [
    {
     "data": {
      "image/png": "[encoded data removed]",
      "text/plain": [
       "<Figure size 1080x720 with 2 Axes>"
      ]
     },
     "metadata": {
      "needs_background": "light"
     },
     "output_type": "display_data"
    }
   ],
   "source": [
    "plt.figure(figsize=(15,10))\n",
    "corr = df.corr()\n",
    "mask = np.zeros_like(corr)\n",
    "mask[np.triu_indices_from(mask)] = True\n",
    "sns.heatmap(corr, annot=True, fmt= '.2f', cmap='RdBu', mask=mask)\n",
    "plt.title('Heatmap of Numerical Features',fontsize=15,fontweight='bold')\n",
    "plt.show()"
   ]
  },
  {
   "cell_type": "markdown",
   "id": "d0d2fd6b",
   "metadata": {},
   "source": [
    "#### Scatterplot of Numerical Features"
   ]
  },
  {
   "cell_type": "code",
   "execution_count": 9,
   "id": "7724b7c6",
   "metadata": {
    "scrolled": true
   },
   "outputs": [
    {
     "data": {
      "image/png": "[encoded data removed]",
      "text/plain": [
       "<Figure size 720x180 with 5 Axes>"
      ]
     },
     "metadata": {
      "needs_background": "light"
     },
     "output_type": "display_data"
    }
   ],
   "source": [
    "# exploring relationship between numerical features\n",
    "pp = sns.pairplot(data=df,y_vars=['resale_price'])\n",
    "pp.fig.suptitle(\"Pairplot of Numerical Features against Resale Price\", fontsize=20, fontweight='bold');"
   ]
  },
  {
   "cell_type": "markdown",
   "id": "063101cf",
   "metadata": {},
   "source": [
    "#### Distributions of Numerical Features"
   ]
  },
  {
   "cell_type": "code",
   "execution_count": 10,
   "id": "22593204",
   "metadata": {
    "scrolled": false
   },
   "outputs": [
    {
     "data": {
      "image/png": "[encoded data removed]",
      "text/plain": [
       "<Figure size 1080x576 with 4 Axes>"
      ]
     },
     "metadata": {
      "needs_background": "light"
     },
     "output_type": "display_data"
    }
   ],
   "source": [
    "df.hist(figsize=(15,8));"
   ]
  },
  {
   "cell_type": "markdown",
   "id": "d6428912",
   "metadata": {},
   "source": [
    "### Categorical Features"
   ]
  },
  {
   "cell_type": "code",
   "execution_count": 11,
   "id": "e729487f",
   "metadata": {},
   "outputs": [],
   "source": [
    "def plot_boxplot(df,variable_name,title_name,plot_order):\n",
    "    plt.figure(figsize=(15,5))\n",
    "    sns.boxplot(data=df, x=variable_name,y='resale_price',order=plot_order)\n",
    "    plt.title(f'Boxplot of {title_name.title()} against Resale Price', fontsize=15, fontweight='bold');"
   ]
  },
  {
   "cell_type": "markdown",
   "id": "b1b4e961",
   "metadata": {},
   "source": [
    "#### Flat Type"
   ]
  },
  {
   "cell_type": "code",
   "execution_count": 12,
   "id": "8b177ff8",
   "metadata": {
    "scrolled": true
   },
   "outputs": [
    {
     "data": {
      "image/png": "[encoded data removed]",
      "text/plain": [
       "<Figure size 1080x360 with 1 Axes>"
      ]
     },
     "metadata": {
      "needs_background": "light"
     },
     "output_type": "display_data"
    }
   ],
   "source": [
    "plot_boxplot(df,'flat_type','flat type',['1 ROOM','2 ROOM','3 ROOM','4 ROOM','5 ROOM','EXECUTIVE','MULTI-GENERATION'])"
   ]
  },
  {
   "cell_type": "code",
   "execution_count": 13,
   "id": "57132c48",
   "metadata": {
    "scrolled": true
   },
   "outputs": [
    {
     "data": {
      "text/plain": [
       "Bukit Merah      522\n",
       "Toa Payoh        368\n",
       "Queenstown       367\n",
       "Kallang          203\n",
       "Bishan           179\n",
       "Ang Mo Kio       150\n",
       "Outram           130\n",
       "Marine Parade    119\n",
       "Geylang          106\n",
       "Clementi          91\n",
       "Bedok             39\n",
       "Bukit Timah       39\n",
       "Tampines          23\n",
       "Tanglin           13\n",
       "Punggol           10\n",
       "Hougang            7\n",
       "Serangoon          1\n",
       "Rochor             1\n",
       "Pasir Ris          1\n",
       "Name: planning_area, dtype: int64"
      ]
     },
     "execution_count": 13,
     "metadata": {},
     "output_type": "execute_result"
    }
   ],
   "source": [
    "df['planning_area'].loc[(df['flat_type']=='5 ROOM') & (df['resale_price'] > 800000)].value_counts()"
   ]
  },
  {
   "cell_type": "markdown",
   "id": "d506d5c9",
   "metadata": {},
   "source": [
    "Discovered that the outliers are in better planning areas"
   ]
  },
  {
   "cell_type": "markdown",
   "id": "430763eb",
   "metadata": {},
   "source": [
    "#### Region"
   ]
  },
  {
   "cell_type": "code",
   "execution_count": 14,
   "id": "f03f31f5",
   "metadata": {
    "scrolled": false
   },
   "outputs": [
    {
     "data": {
      "image/png": "[encoded data removed]",
      "text/plain": [
       "<Figure size 1080x360 with 1 Axes>"
      ]
     },
     "metadata": {
      "needs_background": "light"
     },
     "output_type": "display_data"
    }
   ],
   "source": [
    "# scrape data from wikipedia so that I can create a region column\n",
    "url = 'https://en.wikipedia.org/wiki/Planning_Areas_of_Singapore'\n",
    "res = requests.get(url)\n",
    "soup = BeautifulSoup(res.content, 'html.parser')\n",
    "table = soup.find_all('table')[2]\n",
    "# creating a region dataframe\n",
    "region_table = pd.read_html(str(table))[0]\n",
    "region_table = region_table[['Name (English)','Region']]\n",
    "# converting dataframe to dictionary\n",
    "dictionary = region_table.set_index('Name (English)')['Region'].to_dict()\n",
    "\n",
    "# mapping area to region\n",
    "df['region'] = df['planning_area'].map(dictionary)\n",
    "\n",
    "# identify lower quartile of central and group them to central & non central\n",
    "plot_boxplot(df,'region','region',None)"
   ]
  },
  {
   "cell_type": "code",
   "execution_count": 15,
   "id": "59579fd7",
   "metadata": {
    "scrolled": false
   },
   "outputs": [
    {
     "data": {
      "image/png": "[encoded data removed]",
      "text/plain": [
       "<Figure size 1080x360 with 1 Axes>"
      ]
     },
     "metadata": {
      "needs_background": "light"
     },
     "output_type": "display_data"
    }
   ],
   "source": [
    "# create df of only planning area and resale price\n",
    "temp_df = df[['planning_area','resale_price']].loc[df['region'] == 'Central'].sort_values(by='resale_price')\n",
    "# group categorical values by median\n",
    "grouped = temp_df.loc[:,['planning_area', 'resale_price']] \\\n",
    "    .groupby(['planning_area']) \\\n",
    "    .median() \\\n",
    "    .sort_values(by='resale_price')\n",
    "plot_boxplot(temp_df,'planning_area','planning area in central',grouped.index)"
   ]
  },
  {
   "cell_type": "code",
   "execution_count": 16,
   "id": "ef8ba1c9",
   "metadata": {
    "scrolled": true
   },
   "outputs": [],
   "source": [
    "# drop region column as it is not really useful\n",
    "df.drop(columns='region',inplace=True)"
   ]
  },
  {
   "cell_type": "code",
   "execution_count": 17,
   "id": "37bdc404",
   "metadata": {},
   "outputs": [],
   "source": [
    "# saving final df to csv\n",
    "df.to_csv('./datasets/final_csv',index=False)"
   ]
  },
  {
   "cell_type": "markdown",
   "id": "e9efa6c4",
   "metadata": {},
   "source": [
    "---"
   ]
  },
  {
   "cell_type": "markdown",
   "id": "d983d1e7",
   "metadata": {},
   "source": [
    "## Preprocessing & Modelling"
   ]
  },
  {
   "cell_type": "code",
   "execution_count": 18,
   "id": "98876c69",
   "metadata": {},
   "outputs": [],
   "source": [
    "# independent variables\n",
    "X = df.drop(columns='resale_price')\n",
    "# dependent variables\n",
    "y = df['resale_price']"
   ]
  },
  {
   "cell_type": "markdown",
   "id": "44f96715",
   "metadata": {},
   "source": [
    "### Train-Test Split"
   ]
  },
  {
   "cell_type": "code",
   "execution_count": 19,
   "id": "0c6ee3a5",
   "metadata": {},
   "outputs": [],
   "source": [
    "# train-test split\n",
    "X_train, X_test, y_train, y_test = train_test_split(X, y, random_state=42)"
   ]
  },
  {
   "cell_type": "markdown",
   "id": "842f2bfd",
   "metadata": {},
   "source": [
    "### Preprocessing with ColumnTransformer"
   ]
  },
  {
   "cell_type": "code",
   "execution_count": 20,
   "id": "4e848e6a",
   "metadata": {},
   "outputs": [],
   "source": [
    "# ColumnTransformer for preprocessing\n",
    "ct = ColumnTransformer([('powertransformer',PowerTransformer(),[1,2,3]),\n",
    "                        ('ohe',OneHotEncoder(),[0,4])])"
   ]
  },
  {
   "cell_type": "markdown",
   "id": "eb9d4dce",
   "metadata": {},
   "source": [
    "### RMSE Function"
   ]
  },
  {
   "cell_type": "code",
   "execution_count": 21,
   "id": "a2655dd3",
   "metadata": {},
   "outputs": [],
   "source": [
    "def get_rmse(model,x, y):\n",
    "    y_pred = model.predict(x)\n",
    "    rmse = mean_squared_error(y,y_pred,squared=False)\n",
    "    return rmse"
   ]
  },
  {
   "cell_type": "markdown",
   "id": "070bb516",
   "metadata": {},
   "source": [
    "### Baseline Model"
   ]
  },
  {
   "cell_type": "code",
   "execution_count": 22,
   "id": "15e76327",
   "metadata": {},
   "outputs": [
    {
     "data": {
      "text/html": [
       "<style>#sk-container-id-1 {color: black;background-color: white;}#sk-container-id-1 pre{padding: 0;}#sk-container-id-1 div.sk-toggleable {background-color: white;}#sk-container-id-1 label.sk-toggleable__label {cursor: pointer;display: block;width: 100%;margin-bottom: 0;padding: 0.3em;box-sizing: border-box;text-align: center;}#sk-container-id-1 label.sk-toggleable__label-arrow:before {content: \"▸\";float: left;margin-right: 0.25em;color: #696969;}#sk-container-id-1 label.sk-toggleable__label-arrow:hover:before {color: black;}#sk-container-id-1 div.sk-estimator:hover label.sk-toggleable__label-arrow:before {color: black;}#sk-container-id-1 div.sk-toggleable__content {max-height: 0;max-width: 0;overflow: hidden;text-align: left;background-color: #f0f8ff;}#sk-container-id-1 div.sk-toggleable__content pre {margin: 0.2em;color: black;border-radius: 0.25em;background-color: #f0f8ff;}#sk-container-id-1 input.sk-toggleable__control:checked~div.sk-toggleable__content {max-height: 200px;max-width: 100%;overflow: auto;}#sk-container-id-1 input.sk-toggleable__control:checked~label.sk-toggleable__label-arrow:before {content: \"▾\";}#sk-container-id-1 div.sk-estimator input.sk-toggleable__control:checked~label.sk-toggleable__label {background-color: #d4ebff;}#sk-container-id-1 div.sk-label input.sk-toggleable__control:checked~label.sk-toggleable__label {background-color: #d4ebff;}#sk-container-id-1 input.sk-hidden--visually {border: 0;clip: rect(1px 1px 1px 1px);clip: rect(1px, 1px, 1px, 1px);height: 1px;margin: -1px;overflow: hidden;padding: 0;position: absolute;width: 1px;}#sk-container-id-1 div.sk-estimator {font-family: monospace;background-color: #f0f8ff;border: 1px dotted black;border-radius: 0.25em;box-sizing: border-box;margin-bottom: 0.5em;}#sk-container-id-1 div.sk-estimator:hover {background-color: #d4ebff;}#sk-container-id-1 div.sk-parallel-item::after {content: \"\";width: 100%;border-bottom: 1px solid gray;flex-grow: 1;}#sk-container-id-1 div.sk-label:hover label.sk-toggleable__label {background-color: #d4ebff;}#sk-container-id-1 div.sk-serial::before {content: \"\";position: absolute;border-left: 1px solid gray;box-sizing: border-box;top: 0;bottom: 0;left: 50%;z-index: 0;}#sk-container-id-1 div.sk-serial {display: flex;flex-direction: column;align-items: center;background-color: white;padding-right: 0.2em;padding-left: 0.2em;position: relative;}#sk-container-id-1 div.sk-item {position: relative;z-index: 1;}#sk-container-id-1 div.sk-parallel {display: flex;align-items: stretch;justify-content: center;background-color: white;position: relative;}#sk-container-id-1 div.sk-item::before, #sk-container-id-1 div.sk-parallel-item::before {content: \"\";position: absolute;border-left: 1px solid gray;box-sizing: border-box;top: 0;bottom: 0;left: 50%;z-index: -1;}#sk-container-id-1 div.sk-parallel-item {display: flex;flex-direction: column;z-index: 1;position: relative;background-color: white;}#sk-container-id-1 div.sk-parallel-item:first-child::after {align-self: flex-end;width: 50%;}#sk-container-id-1 div.sk-parallel-item:last-child::after {align-self: flex-start;width: 50%;}#sk-container-id-1 div.sk-parallel-item:only-child::after {width: 0;}#sk-container-id-1 div.sk-dashed-wrapped {border: 1px dashed gray;margin: 0 0.4em 0.5em 0.4em;box-sizing: border-box;padding-bottom: 0.4em;background-color: white;}#sk-container-id-1 div.sk-label label {font-family: monospace;font-weight: bold;display: inline-block;line-height: 1.2em;}#sk-container-id-1 div.sk-label-container {text-align: center;}#sk-container-id-1 div.sk-container {/* jupyter's `normalize.less` sets `[hidden] { display: none; }` but bootstrap.min.css set `[hidden] { display: none !important; }` so we also need the `!important` here to be able to override the default hidden behavior on the sphinx rendered scikit-learn.org. See: https://github.com/scikit-learn/scikit-learn/issues/21755 */display: inline-block !important;position: relative;}#sk-container-id-1 div.sk-text-repr-fallback {display: none;}</style><div id=\"sk-container-id-1\" class=\"sk-top-container\"><div class=\"sk-text-repr-fallback\"><pre>Pipeline(steps=[(&#x27;columntransformer&#x27;,\n",
       "                 ColumnTransformer(transformers=[(&#x27;powertransformer&#x27;,\n",
       "                                                  PowerTransformer(),\n",
       "                                                  [1, 2, 3]),\n",
       "                                                 (&#x27;ohe&#x27;, OneHotEncoder(),\n",
       "                                                  [0, 4])])),\n",
       "                (&#x27;linearregression&#x27;, LinearRegression())])</pre><b>In a Jupyter environment, please rerun this cell to show the HTML representation or trust the notebook. <br />On GitHub, the HTML representation is unable to render, please try loading this page with nbviewer.org.</b></div><div class=\"sk-container\" hidden><div class=\"sk-item sk-dashed-wrapped\"><div class=\"sk-label-container\"><div class=\"sk-label sk-toggleable\"><input class=\"sk-toggleable__control sk-hidden--visually\" id=\"sk-estimator-id-1\" type=\"checkbox\" ><label for=\"sk-estimator-id-1\" class=\"sk-toggleable__label sk-toggleable__label-arrow\">Pipeline</label><div class=\"sk-toggleable__content\"><pre>Pipeline(steps=[(&#x27;columntransformer&#x27;,\n",
       "                 ColumnTransformer(transformers=[(&#x27;powertransformer&#x27;,\n",
       "                                                  PowerTransformer(),\n",
       "                                                  [1, 2, 3]),\n",
       "                                                 (&#x27;ohe&#x27;, OneHotEncoder(),\n",
       "                                                  [0, 4])])),\n",
       "                (&#x27;linearregression&#x27;, LinearRegression())])</pre></div></div></div><div class=\"sk-serial\"><div class=\"sk-item sk-dashed-wrapped\"><div class=\"sk-label-container\"><div class=\"sk-label sk-toggleable\"><input class=\"sk-toggleable__control sk-hidden--visually\" id=\"sk-estimator-id-2\" type=\"checkbox\" ><label for=\"sk-estimator-id-2\" class=\"sk-toggleable__label sk-toggleable__label-arrow\">columntransformer: ColumnTransformer</label><div class=\"sk-toggleable__content\"><pre>ColumnTransformer(transformers=[(&#x27;powertransformer&#x27;, PowerTransformer(),\n",
       "                                 [1, 2, 3]),\n",
       "                                (&#x27;ohe&#x27;, OneHotEncoder(), [0, 4])])</pre></div></div></div><div class=\"sk-parallel\"><div class=\"sk-parallel-item\"><div class=\"sk-item\"><div class=\"sk-label-container\"><div class=\"sk-label sk-toggleable\"><input class=\"sk-toggleable__control sk-hidden--visually\" id=\"sk-estimator-id-3\" type=\"checkbox\" ><label for=\"sk-estimator-id-3\" class=\"sk-toggleable__label sk-toggleable__label-arrow\">powertransformer</label><div class=\"sk-toggleable__content\"><pre>[1, 2, 3]</pre></div></div></div><div class=\"sk-serial\"><div class=\"sk-item\"><div class=\"sk-estimator sk-toggleable\"><input class=\"sk-toggleable__control sk-hidden--visually\" id=\"sk-estimator-id-4\" type=\"checkbox\" ><label for=\"sk-estimator-id-4\" class=\"sk-toggleable__label sk-toggleable__label-arrow\">PowerTransformer</label><div class=\"sk-toggleable__content\"><pre>PowerTransformer()</pre></div></div></div></div></div></div><div class=\"sk-parallel-item\"><div class=\"sk-item\"><div class=\"sk-label-container\"><div class=\"sk-label sk-toggleable\"><input class=\"sk-toggleable__control sk-hidden--visually\" id=\"sk-estimator-id-5\" type=\"checkbox\" ><label for=\"sk-estimator-id-5\" class=\"sk-toggleable__label sk-toggleable__label-arrow\">ohe</label><div class=\"sk-toggleable__content\"><pre>[0, 4]</pre></div></div></div><div class=\"sk-serial\"><div class=\"sk-item\"><div class=\"sk-estimator sk-toggleable\"><input class=\"sk-toggleable__control sk-hidden--visually\" id=\"sk-estimator-id-6\" type=\"checkbox\" ><label for=\"sk-estimator-id-6\" class=\"sk-toggleable__label sk-toggleable__label-arrow\">OneHotEncoder</label><div class=\"sk-toggleable__content\"><pre>OneHotEncoder()</pre></div></div></div></div></div></div></div></div><div class=\"sk-item\"><div class=\"sk-estimator sk-toggleable\"><input class=\"sk-toggleable__control sk-hidden--visually\" id=\"sk-estimator-id-7\" type=\"checkbox\" ><label for=\"sk-estimator-id-7\" class=\"sk-toggleable__label sk-toggleable__label-arrow\">LinearRegression</label><div class=\"sk-toggleable__content\"><pre>LinearRegression()</pre></div></div></div></div></div></div></div>"
      ],
      "text/plain": [
       "Pipeline(steps=[('columntransformer',\n",
       "                 ColumnTransformer(transformers=[('powertransformer',\n",
       "                                                  PowerTransformer(),\n",
       "                                                  [1, 2, 3]),\n",
       "                                                 ('ohe', OneHotEncoder(),\n",
       "                                                  [0, 4])])),\n",
       "                ('linearregression', LinearRegression())])"
      ]
     },
     "execution_count": 22,
     "metadata": {},
     "output_type": "execute_result"
    }
   ],
   "source": [
    "# pipeline for model training\n",
    "baseline_model = Pipeline(steps=[('columntransformer',ct),\n",
    "                      ('linearregression',LinearRegression())])\n",
    "baseline_model.fit(X_train, y_train)"
   ]
  },
  {
   "cell_type": "markdown",
   "id": "dee0e3c0",
   "metadata": {},
   "source": [
    "#### Baseline Model RMSE"
   ]
  },
  {
   "cell_type": "code",
   "execution_count": 23,
   "id": "436e6d6f",
   "metadata": {
    "scrolled": true
   },
   "outputs": [
    {
     "name": "stdout",
     "output_type": "stream",
     "text": [
      "Model Train RMSE: 73474.332\n",
      "Model Test RMSE: 73422.395\n"
     ]
    }
   ],
   "source": [
    "print(\"Model Train RMSE: %.3f\" % get_rmse(baseline_model, X_train, y_train))\n",
    "print(\"Model Test RMSE: %.3f\" % get_rmse(baseline_model, X_test, y_test))"
   ]
  },
  {
   "cell_type": "markdown",
   "id": "1d106fb3",
   "metadata": {},
   "source": [
    "### Finding the best model & Hyperparameter Tuning"
   ]
  },
  {
   "cell_type": "code",
   "execution_count": 24,
   "id": "e0ffcc3c",
   "metadata": {},
   "outputs": [],
   "source": [
    "class ClfSwitcher(BaseEstimator):\n",
    "\n",
    "    def __init__(\n",
    "        self, \n",
    "        estimator = LinearRegression(),\n",
    "    ):\n",
    "        \"\"\"\n",
    "        A Custom BaseEstimator that can switch between regressors.\n",
    "        \"\"\" \n",
    "\n",
    "        self.estimator = estimator\n",
    "\n",
    "\n",
    "    def fit(self, X, y=None, **kwargs):\n",
    "        self.estimator.fit(X, y)\n",
    "        return self\n",
    "\n",
    "\n",
    "    def predict(self, X, y=None):\n",
    "        return self.estimator.predict(X)\n",
    "\n",
    "\n",
    "    def predict_proba(self, X):\n",
    "        return self.estimator.predict_proba(X)\n",
    "\n",
    "\n",
    "    def score(self, X, y):\n",
    "        return self.estimator.score(X, y)"
   ]
  },
  {
   "cell_type": "code",
   "execution_count": 25,
   "id": "1a81910d",
   "metadata": {
    "scrolled": true
   },
   "outputs": [],
   "source": [
    "# pipeline = Pipeline([\n",
    "#     ('ColumnTransformer', ct),\n",
    "#     ('clf', TransformedTargetRegressor(regressor=ClfSwitcher(),\n",
    "#                                        func=np.log,\n",
    "#                                        inverse_func=np.exp))\n",
    "# ])\n",
    "\n",
    "# parameters = [\n",
    "#     {\n",
    "#         'clf__regressor__estimator': [LinearRegression()] \n",
    "#     },\n",
    "#     {\n",
    "#         'clf__regressor__estimator': [xgb.XGBRegressor()],\n",
    "#         'clf__regressor__estimator__learning_rate': [0.1, 0.3, 0.5, 0.7],\n",
    "#         'clf__regressor__estimator__max_depth': [3, 5, 7, 9]\n",
    "    \n",
    "#     },\n",
    "#     {\n",
    "#         'clf__regressor__estimator': [KNeighborsRegressor()],\n",
    "#         'clf__regressor__estimator__n_neighbors': [3, 5, 7, 9, 11],  # number of neighbors to consider\n",
    "#         'clf__regressor__estimator__weights': ['uniform', 'distance']\n",
    "    \n",
    "#     },\n",
    "#     {\n",
    "#         'clf__regressor__estimator': [RandomForestRegressor()],\n",
    "#         'clf__regressor__estimator__n_estimators': [100, 200, 300],  # number of trees in the forest\n",
    "#         'clf__regressor__estimator__max_depth': [5, 10, 20]\n",
    "    \n",
    "#     }]\n",
    "\n",
    "# gscv = GridSearchCV(pipeline, parameters, cv=5, n_jobs=12, return_train_score=False, verbose=3)\n",
    "# gscv.fit(X_train, y_train)"
   ]
  },
  {
   "cell_type": "code",
   "execution_count": 26,
   "id": "30ab6440",
   "metadata": {
    "scrolled": true
   },
   "outputs": [],
   "source": [
    "#gscv.best_estimator_"
   ]
  },
  {
   "cell_type": "markdown",
   "id": "52ca4a78",
   "metadata": {},
   "source": [
    "Best model is the XGBRegressor"
   ]
  },
  {
   "cell_type": "code",
   "execution_count": 27,
   "id": "5f8b14f5",
   "metadata": {
    "scrolled": true
   },
   "outputs": [],
   "source": [
    "#get_rmse(gscv, X_train, y_train)"
   ]
  },
  {
   "cell_type": "markdown",
   "id": "4beb1320",
   "metadata": {},
   "source": [
    "Train RMSE : 36677"
   ]
  },
  {
   "cell_type": "code",
   "execution_count": 28,
   "id": "aa9e75c2",
   "metadata": {
    "scrolled": false
   },
   "outputs": [],
   "source": [
    "#get_rmse(gscv, X_test, y_test)"
   ]
  },
  {
   "cell_type": "markdown",
   "id": "e5fe3f7b",
   "metadata": {},
   "source": [
    "Test RMSE: 39574"
   ]
  },
  {
   "cell_type": "markdown",
   "id": "88a9f414",
   "metadata": {},
   "source": [
    "There is generally low overfitting"
   ]
  },
  {
   "cell_type": "code",
   "execution_count": 29,
   "id": "287f4eb1",
   "metadata": {
    "scrolled": true
   },
   "outputs": [],
   "source": [
    "#gscv.best_params_"
   ]
  },
  {
   "cell_type": "markdown",
   "id": "39e43d51",
   "metadata": {},
   "source": [
    "XGBRegressor Best Params: learning_rate=0.3, max_depth=9"
   ]
  },
  {
   "cell_type": "markdown",
   "id": "79d42c3a",
   "metadata": {},
   "source": [
    "### VotingRegressor"
   ]
  },
  {
   "cell_type": "markdown",
   "id": "34de75cd",
   "metadata": {},
   "source": [
    "#### Models"
   ]
  },
  {
   "cell_type": "code",
   "execution_count": 30,
   "id": "977c7070",
   "metadata": {},
   "outputs": [],
   "source": [
    "xgboost_model = xgb.XGBRegressor(learning_rate=0.3, max_depth=9)\n",
    "# randomforest_model = RandomForestRegressor(max_depth=20,n_estimators=300)\n",
    "# knn_model = KNeighborsRegressor(n_neighbors=11, weights='distance')"
   ]
  },
  {
   "cell_type": "markdown",
   "id": "4ae9d5bb",
   "metadata": {},
   "source": [
    "#### VotingRegressor Pipeline"
   ]
  },
  {
   "cell_type": "code",
   "execution_count": 31,
   "id": "e40835de",
   "metadata": {},
   "outputs": [],
   "source": [
    "# votingregressor_pipeline = Pipeline(steps=[('ColumnTransformer', ct),\n",
    "#                                           ('VotingRegressor', VotingRegressor([('xgboost',xgboost_model),\n",
    "#                                                                                ('randomforest', randomforest_model),\n",
    "#                                                                                ('knn', knn_model)],\n",
    "#                                                                               weights=[2,1,1]))])\n",
    "# votingregressor_pipeline.fit(X_train, y_train)"
   ]
  },
  {
   "cell_type": "code",
   "execution_count": 32,
   "id": "d5a8215b",
   "metadata": {},
   "outputs": [],
   "source": [
    "#get_rmse(votingregressor_pipeline, X_train, y_train)"
   ]
  },
  {
   "cell_type": "markdown",
   "id": "584d6d82",
   "metadata": {},
   "source": [
    "Train RMSE: 39280"
   ]
  },
  {
   "cell_type": "code",
   "execution_count": 33,
   "id": "9fc316a6",
   "metadata": {
    "scrolled": false
   },
   "outputs": [],
   "source": [
    "#get_rmse(votingregressor_pipeline, X_test, y_test)"
   ]
  },
  {
   "cell_type": "markdown",
   "id": "49db0157",
   "metadata": {},
   "source": [
    "Test RMSE: 42737"
   ]
  },
  {
   "cell_type": "markdown",
   "id": "e353eeef",
   "metadata": {},
   "source": [
    "VotingRegressor takes too long to make prediction and is worse than just using XGBoost Model"
   ]
  },
  {
   "cell_type": "markdown",
   "id": "5f153526",
   "metadata": {},
   "source": [
    "### Building the Final Pipeline"
   ]
  },
  {
   "cell_type": "code",
   "execution_count": 34,
   "id": "82f3a18f",
   "metadata": {
    "scrolled": true
   },
   "outputs": [
    {
     "name": "stdout",
     "output_type": "stream",
     "text": [
      "Train RMSE: 36432.10720022915\n",
      "Test RMSE: 39463.75010336925\n"
     ]
    }
   ],
   "source": [
    "final_model = Pipeline(steps=[('ColumnTransformer', ct),\n",
    "                      ('XGBRegressor', xgboost_model)])\n",
    "\n",
    "final_model.fit(X_train, y_train)\n",
    "\n",
    "print(f'Train RMSE: {get_rmse(final_model, X_train, y_train)}')\n",
    "print(f'Test RMSE: {get_rmse(final_model, X_test, y_test)}')"
   ]
  },
  {
   "cell_type": "markdown",
   "id": "2ef3783a",
   "metadata": {},
   "source": [
    "Final model makes prediction really quickly and does better than using VotingRegressor. Also, TransformedTargetRegressor is not used as not using it improved RMSE by a little."
   ]
  },
  {
   "cell_type": "markdown",
   "id": "b8acf803",
   "metadata": {},
   "source": [
    "## Predict for submission on Kaggle"
   ]
  },
  {
   "cell_type": "code",
   "execution_count": 35,
   "id": "be8978f1",
   "metadata": {
    "scrolled": true
   },
   "outputs": [
    {
     "name": "stderr",
     "output_type": "stream",
     "text": [
      "/var/folders/mz/nzt7_nv53yb90l1j63v7r8n00000gn/T/ipykernel_10306/3372247938.py:1: DtypeWarning: Columns (41) have mixed types. Specify dtype option on import or set low_memory=False.\n",
      "  kaggle_test = pd.read_csv('./datasets/test.csv')\n"
     ]
    }
   ],
   "source": [
    "kaggle_test = pd.read_csv('./datasets/test.csv')"
   ]
  },
  {
   "cell_type": "code",
   "execution_count": 36,
   "id": "c906e25e",
   "metadata": {},
   "outputs": [],
   "source": [
    "test_pred = final_model.predict(kaggle_test)"
   ]
  },
  {
   "cell_type": "code",
   "execution_count": 37,
   "id": "3e4b3333",
   "metadata": {},
   "outputs": [],
   "source": [
    "kaggle_test['pred'] = test_pred"
   ]
  },
  {
   "cell_type": "code",
   "execution_count": 38,
   "id": "9e14ce81",
   "metadata": {},
   "outputs": [],
   "source": [
    "kaggle_test = kaggle_test[['id','pred']]"
   ]
  },
  {
   "cell_type": "code",
   "execution_count": 39,
   "id": "37be43b5",
   "metadata": {},
   "outputs": [],
   "source": [
    "kaggle_test.to_csv('./datasets/kaggle_test.csv')"
   ]
  },
  {
   "cell_type": "markdown",
   "id": "84e42576",
   "metadata": {},
   "source": [
    "Model scored ~39000 on Kaggle signifying no overfitting"
   ]
  },
  {
   "cell_type": "markdown",
   "id": "b4edfe32",
   "metadata": {},
   "source": [
    "## Export Model for Deployment"
   ]
  },
  {
   "cell_type": "code",
   "execution_count": 40,
   "id": "4a57961b",
   "metadata": {},
   "outputs": [
    {
     "data": {
      "text/plain": [
       "['final_model.joblib']"
      ]
     },
     "execution_count": 40,
     "metadata": {},
     "output_type": "execute_result"
    }
   ],
   "source": [
    "dump(final_model, 'final_model.joblib')"
   ]
  }
 ],
 "metadata": {
  "kernelspec": {
   "display_name": "Python 3 (ipykernel)",
   "language": "python",
   "name": "python3"
  },
  "language_info": {
   "codemirror_mode": {
    "name": "ipython",
    "version": 3
   },
   "file_extension": ".py",
   "mimetype": "text/x-python",
   "name": "python",
   "nbconvert_exporter": "python",
   "pygments_lexer": "ipython3",
   "version": "3.9.12"
  }
 },
 "nbformat": 4,
 "nbformat_minor": 5
}
